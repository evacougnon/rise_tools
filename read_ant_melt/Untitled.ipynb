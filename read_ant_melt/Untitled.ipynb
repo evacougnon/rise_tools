{
 "cells": [
  {
   "cell_type": "code",
   "execution_count": 32,
   "metadata": {},
   "outputs": [
    {
     "name": "stdout",
     "output_type": "stream",
     "text": [
      "/home/oie_storage/PRIVATE/DATA/metroms/\n",
      "/home/oie_storage/PRIVATE/DATA/fesom/\n"
     ]
    }
   ],
   "source": [
    "'''\n",
    "plotting the first contributed data\n",
    "'''\n",
    "\n",
    "# load modules\n",
    "import numpy as np\n",
    "import xarray as xr\n",
    "import glob\n",
    "import os\n",
    "\n",
    "header = '/home/oie_storage/PRIVATE/DATA/'\n",
    "\n",
    "# list the subfolders \n",
    "for name in glob.glob(header + '*/'):\n",
    "    print(name)\n",
    "# save the subfolders into a list\n"
   ]
  },
  {
   "cell_type": "code",
   "execution_count": 22,
   "metadata": {},
   "outputs": [
    {
     "name": "stdout",
     "output_type": "stream",
     "text": [
      "Variable   Type         Data/Info\n",
      "---------------------------------\n",
      "glob       module       <module 'glob' from '/hom<...>3/lib/python3.7/glob.py'>\n",
      "header     str          /home/oie_storage/PRIVATE/DATA/\n",
      "name       str          /home/oie_storage/PRIVATE/DATA/fesom/\n",
      "np         module       <module 'numpy' from '/ho<...>kages/numpy/__init__.py'>\n",
      "os         module       <module 'os' from '/home/<...>da3/lib/python3.7/os.py'>\n",
      "test       generator    <generator object walk at 0x7fb4d923aa20>\n",
      "xr         module       <module 'xarray' from '/h<...>ages/xarray/__init__.py'>\n"
     ]
    }
   ],
   "source": [
    "whos"
   ]
  },
  {
   "cell_type": "code",
   "execution_count": 24,
   "metadata": {},
   "outputs": [],
   "source": [
    "import os"
   ]
  },
  {
   "cell_type": "code",
   "execution_count": 25,
   "metadata": {},
   "outputs": [],
   "source": [
    "subfolders = [f.path for f in os.scandir(header) if f.is_dir() ]"
   ]
  },
  {
   "cell_type": "code",
   "execution_count": 26,
   "metadata": {},
   "outputs": [
    {
     "name": "stdout",
     "output_type": "stream",
     "text": [
      "Variable     Type         Data/Info\n",
      "-----------------------------------\n",
      "glob         module       <module 'glob' from '/hom<...>3/lib/python3.7/glob.py'>\n",
      "header       str          /home/oie_storage/PRIVATE/DATA/\n",
      "name         str          /home/oie_storage/PRIVATE/DATA/fesom/\n",
      "np           module       <module 'numpy' from '/ho<...>kages/numpy/__init__.py'>\n",
      "os           module       <module 'os' from '/home/<...>da3/lib/python3.7/os.py'>\n",
      "subfolders   list         n=2\n",
      "test         generator    <generator object walk at 0x7fb4d923aa20>\n",
      "xr           module       <module 'xarray' from '/h<...>ages/xarray/__init__.py'>\n"
     ]
    }
   ],
   "source": [
    "whos"
   ]
  },
  {
   "cell_type": "code",
   "execution_count": 30,
   "metadata": {},
   "outputs": [
    {
     "data": {
      "text/plain": [
       "'/home/oie_storage/PRIVATE/DATA/fesom'"
      ]
     },
     "execution_count": 30,
     "metadata": {},
     "output_type": "execute_result"
    }
   ],
   "source": [
    "subfolders[1]"
   ]
  },
  {
   "cell_type": "code",
   "execution_count": null,
   "metadata": {},
   "outputs": [],
   "source": []
  }
 ],
 "metadata": {
  "kernelspec": {
   "display_name": "Python 3",
   "language": "python",
   "name": "python3"
  },
  "language_info": {
   "codemirror_mode": {
    "name": "ipython",
    "version": 3
   },
   "file_extension": ".py",
   "mimetype": "text/x-python",
   "name": "python",
   "nbconvert_exporter": "python",
   "pygments_lexer": "ipython3",
   "version": "3.7.3"
  }
 },
 "nbformat": 4,
 "nbformat_minor": 2
}

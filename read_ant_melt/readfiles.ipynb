{
 "cells": [
  {
   "cell_type": "code",
   "execution_count": 33,
   "metadata": {},
   "outputs": [
    {
     "name": "stdout",
     "output_type": "stream",
     "text": [
      "/home/oie_storage/PRIVATE/DATA/metroms/\n",
      "/home/oie_storage/PRIVATE/DATA/fesom/\n"
     ]
    }
   ],
   "source": [
    "'''\n",
    "plotting the first contributed data\n",
    "'''\n",
    "\n",
    "# load modules\n",
    "import numpy as np\n",
    "import xarray as xr\n",
    "import glob\n",
    "import os\n",
    "\n",
    "header = '/home/oie_storage/PRIVATE/DATA/'\n",
    "\n",
    "# list the subfolders \n",
    "for name in glob.glob(header + '*/'):\n",
    "    print(name)\n",
    "# save the subfolders into a list\n",
    "subfolders = [f.path for f in os.scandir(header) if f.is_dir() ]\n"
   ]
  },
  {
   "cell_type": "code",
   "execution_count": 34,
   "metadata": {
    "scrolled": true
   },
   "outputs": [
    {
     "name": "stdout",
     "output_type": "stream",
     "text": [
      "Variable     Type         Data/Info\n",
      "-----------------------------------\n",
      "glob         module       <module 'glob' from '/hom<...>3/lib/python3.7/glob.py'>\n",
      "header       str          /home/oie_storage/PRIVATE/DATA/\n",
      "name         str          /home/oie_storage/PRIVATE/DATA/fesom/\n",
      "np           module       <module 'numpy' from '/ho<...>kages/numpy/__init__.py'>\n",
      "os           module       <module 'os' from '/home/<...>da3/lib/python3.7/os.py'>\n",
      "subfolders   list         n=2\n",
      "test         generator    <generator object walk at 0x7fb4d923aa20>\n",
      "xr           module       <module 'xarray' from '/h<...>ages/xarray/__init__.py'>\n"
     ]
    }
   ],
   "source": [
    "whos"
   ]
  },
  {
   "cell_type": "code",
   "execution_count": 44,
   "metadata": {},
   "outputs": [
    {
     "data": {
      "text/plain": [
       "'/home/oie_storage/PRIVATE/DATA/metroms/time.nc'"
      ]
     },
     "execution_count": 44,
     "metadata": {},
     "output_type": "execute_result"
    }
   ],
   "source": [
    "# loop through each folder\n",
    "# recall that a timeseries with integradted variable over an \n",
    "# area is saved as timeseries_*.nc and time series from the raw grid\n",
    "# is saved as full_*.nc\n",
    "subfolders[0] + '/time.nc'"
   ]
  },
  {
   "cell_type": "code",
   "execution_count": 46,
   "metadata": {},
   "outputs": [
    {
     "ename": "SyntaxError",
     "evalue": "invalid syntax (<ipython-input-46-ef73965cb8f0>, line 2)",
     "output_type": "error",
     "traceback": [
      "\u001b[0;36m  File \u001b[0;32m\"<ipython-input-46-ef73965cb8f0>\"\u001b[0;36m, line \u001b[0;32m2\u001b[0m\n\u001b[0;31m    mr = xr.open_dataset('/home/oie_storage/PRIVATE/DATA/metroms/timeseries_annual.nc').['mertz']\u001b[0m\n\u001b[0m                                                                                        ^\u001b[0m\n\u001b[0;31mSyntaxError\u001b[0m\u001b[0;31m:\u001b[0m invalid syntax\n"
     ]
    }
   ],
   "source": [
    "#for sf in subfolders:\n",
    "mr = xr.open_dataset('/home/oie_storage/PRIVATE/DATA/metroms/timeseries_annual.nc').['mertz']"
   ]
  },
  {
   "cell_type": "code",
   "execution_count": 26,
   "metadata": {},
   "outputs": [
    {
     "name": "stdout",
     "output_type": "stream",
     "text": [
      "Variable     Type         Data/Info\n",
      "-----------------------------------\n",
      "glob         module       <module 'glob' from '/hom<...>3/lib/python3.7/glob.py'>\n",
      "header       str          /home/oie_storage/PRIVATE/DATA/\n",
      "name         str          /home/oie_storage/PRIVATE/DATA/fesom/\n",
      "np           module       <module 'numpy' from '/ho<...>kages/numpy/__init__.py'>\n",
      "os           module       <module 'os' from '/home/<...>da3/lib/python3.7/os.py'>\n",
      "subfolders   list         n=2\n",
      "test         generator    <generator object walk at 0x7fb4d923aa20>\n",
      "xr           module       <module 'xarray' from '/h<...>ages/xarray/__init__.py'>\n"
     ]
    }
   ],
   "source": []
  },
  {
   "cell_type": "code",
   "execution_count": 30,
   "metadata": {},
   "outputs": [
    {
     "data": {
      "text/plain": [
       "'/home/oie_storage/PRIVATE/DATA/fesom'"
      ]
     },
     "execution_count": 30,
     "metadata": {},
     "output_type": "execute_result"
    }
   ],
   "source": []
  },
  {
   "cell_type": "code",
   "execution_count": null,
   "metadata": {},
   "outputs": [],
   "source": []
  }
 ],
 "metadata": {
  "kernelspec": {
   "display_name": "Python 3",
   "language": "python",
   "name": "python3"
  },
  "language_info": {
   "codemirror_mode": {
    "name": "ipython",
    "version": 3
   },
   "file_extension": ".py",
   "mimetype": "text/x-python",
   "name": "python",
   "nbconvert_exporter": "python",
   "pygments_lexer": "ipython3",
   "version": "3.7.3"
  }
 },
 "nbformat": 4,
 "nbformat_minor": 2
}
